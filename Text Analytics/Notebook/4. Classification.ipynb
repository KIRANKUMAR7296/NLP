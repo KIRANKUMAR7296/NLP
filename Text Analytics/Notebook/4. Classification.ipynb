{
 "cells": [
  {
   "cell_type": "markdown",
   "metadata": {},
   "source": [
    "### Classification\n",
    "\n",
    "Machine Learning Technique for `Supervised` Learning\n",
    "\n",
    "`Predict`  Class for New Data\n",
    "\n",
    "Text Mining : Word becomes `Features`\n",
    "\n",
    "Preprocessing : `TF-IDF`"
   ]
  },
  {
   "cell_type": "code",
   "execution_count": 1,
   "metadata": {},
   "outputs": [
    {
     "name": "stdout",
     "output_type": "stream",
     "text": [
      "Sample Course Description : ['In this practical, hands-on course, learn how to do data preparation, data munging, data visualization, and predictive analytics. ', 'PHP is the most popular server-side language used to build dynamic websites, and though it is not especially difficult to use, nonprogrammers often find it intimidating. ']\n"
     ]
    }
   ],
   "source": [
    "with open(\"../Data/Course Descriptions.txt\",'r') as file:\n",
    "    description = file.read().splitlines()\n",
    "    \n",
    "print(f'Sample Course Description : {description[:2]}')"
   ]
  },
  {
   "cell_type": "code",
   "execution_count": 2,
   "metadata": {},
   "outputs": [],
   "source": [
    "import nltk\n",
    "from nltk.corpus import stopwords\n",
    "from nltk.stem import WordNetLemmatizer\n",
    "from sklearn.feature_extraction.text import TfidfVectorizer\n",
    "lemmatizer = WordNetLemmatizer()"
   ]
  },
  {
   "cell_type": "markdown",
   "metadata": {},
   "source": [
    "`Clean` Text"
   ]
  },
  {
   "cell_type": "code",
   "execution_count": 3,
   "metadata": {},
   "outputs": [
    {
     "name": "stdout",
     "output_type": "stream",
     "text": [
      "Features : \n",
      "[\"'ll\", \"'re\", \"'s\", '(', ')', ',', '.', '?', 'actively', 'adopting', 'amazon', 'analysis', 'analytics', 'application', 'applied', 'architect', 'architecture', 'around', 'aspect', 'associate', 'aws', 'basic', 'become', 'begin', 'big']\n",
      "\n",
      "Size of TF-IDF Matrix : (20, 240)\n"
     ]
    }
   ],
   "source": [
    "def clean_text(str):\n",
    "    tokens = nltk.word_tokenize(str)\n",
    "    nostopwords = list(filter(lambda token : token not in stopwords.words('english'), tokens))\n",
    "    lemmatized = [lemmatizer.lemmatize(word) for word in nostopwords]\n",
    "    return lemmatized\n",
    "\n",
    "vectorizer = TfidfVectorizer(tokenizer=clean_text)\n",
    "tfidf = vectorizer.fit_transform(description)\n",
    "\n",
    "print(f'Features : \\n{vectorizer.get_feature_names()[:25]}')\n",
    "print(f'\\nSize of TF-IDF Matrix : {tfidf.shape}')"
   ]
  },
  {
   "cell_type": "markdown",
   "metadata": {},
   "source": [
    "`Building` the Model"
   ]
  },
  {
   "cell_type": "code",
   "execution_count": 4,
   "metadata": {},
   "outputs": [
    {
     "name": "stdout",
     "output_type": "stream",
     "text": [
      "Labels : \n",
      "['Data-Science', 'Programming', 'Programming', 'Cloud-Computing', 'Data-Science', 'Programming', 'Data-Science', 'Programming', 'Cloud-Computing', 'Data-Science', 'Data-Science', 'Programming', 'Programming', 'Cloud-Computing', 'Programming', 'Cloud-Computing', 'Cloud-Computing', 'Cloud-Computing', 'Programming', 'Programming']\n"
     ]
    }
   ],
   "source": [
    "with open(\"../Data/Course Classification.txt\",\"r\") as file:\n",
    "    labels = file.read().splitlines()\n",
    "    \n",
    "print(f'Labels : \\n{labels}')"
   ]
  },
  {
   "cell_type": "code",
   "execution_count": 5,
   "metadata": {},
   "outputs": [
    {
     "name": "stdout",
     "output_type": "stream",
     "text": [
      "Classes : ['Cloud-Computing' 'Data-Science' 'Programming']\n"
     ]
    }
   ],
   "source": [
    "from sklearn.preprocessing import LabelEncoder\n",
    "le = LabelEncoder()\n",
    "le.fit(labels)\n",
    "print(f'Classes : {le.classes_}')"
   ]
  },
  {
   "cell_type": "markdown",
   "metadata": {},
   "source": [
    "`Encoding` Labels to Numeric "
   ]
  },
  {
   "cell_type": "code",
   "execution_count": 6,
   "metadata": {},
   "outputs": [
    {
     "name": "stdout",
     "output_type": "stream",
     "text": [
      "Encoded Labels : [1 2 2 0 1 2 1 2 0 1 1 2 2 0 2 0 0 0 2 2]\n"
     ]
    }
   ],
   "source": [
    "encoded_labels = le.transform(labels)\n",
    "print(f'Encoded Labels : {encoded_labels}')"
   ]
  },
  {
   "cell_type": "markdown",
   "metadata": {},
   "source": [
    "`Encoded Labels`\n",
    "\n",
    "`1` - Data Science\n",
    "\n",
    "`2` - Programming\n",
    "\n",
    "`0` - Cloud Computing"
   ]
  },
  {
   "cell_type": "markdown",
   "metadata": {},
   "source": [
    "Splitting Dataset into `Train` and `Test` Set"
   ]
  },
  {
   "cell_type": "code",
   "execution_count": 7,
   "metadata": {},
   "outputs": [],
   "source": [
    "from sklearn.model_selection import train_test_split\n",
    "X_train, X_test, y_train, y_test  = train_test_split(tfidf, encoded_labels, test_size=0.2, random_state = 0)"
   ]
  },
  {
   "cell_type": "markdown",
   "metadata": {},
   "source": [
    "Classification using `Naive Bayes`"
   ]
  },
  {
   "cell_type": "code",
   "execution_count": 8,
   "metadata": {},
   "outputs": [],
   "source": [
    "from sklearn.naive_bayes import MultinomialNB\n",
    "classifier = MultinomialNB().fit(X_train, y_train)"
   ]
  },
  {
   "cell_type": "markdown",
   "metadata": {},
   "source": [
    "`Predictions` and Evaluation"
   ]
  },
  {
   "cell_type": "code",
   "execution_count": 9,
   "metadata": {},
   "outputs": [
    {
     "name": "stdout",
     "output_type": "stream",
     "text": [
      "Testing with Test Set :\n",
      "\n",
      "Confusion Matrix :\n",
      "[[1 0]\n",
      " [1 2]]\n",
      "\n",
      "Prediction Accuracy : 75.00%\n",
      "Testing with Full Corpus :\n",
      "\n",
      "Confusion Matrix :\n",
      "[[6 0 0]\n",
      " [0 5 0]\n",
      " [1 0 8]]\n",
      "\n",
      "Prediction Accuracy : 95.00%\n"
     ]
    }
   ],
   "source": [
    "from sklearn.metrics import confusion_matrix, accuracy_score\n",
    "print(f'Testing with Test Set :\\n')\n",
    "y_pred = classifier.predict(X_test)\n",
    "print(f'Confusion Matrix :\\n{confusion_matrix(y_test, y_pred)}\\n')\n",
    "print(f'Prediction Accuracy : {accuracy_score(y_test, y_pred)*100:.2f}%')\n",
    "\n",
    "print(f'Testing with Full Corpus :\\n')\n",
    "y_pred = classifier.predict(tfidf)\n",
    "print(f'Confusion Matrix :\\n{confusion_matrix(encoded_labels, y_pred)}\\n')\n",
    "print(f'Prediction Accuracy : {accuracy_score(encoded_labels, y_pred)*100:.2f}%')"
   ]
  }
 ],
 "metadata": {
  "kernelspec": {
   "display_name": "Python 3",
   "language": "python",
   "name": "python3"
  },
  "language_info": {
   "codemirror_mode": {
    "name": "ipython",
    "version": 3
   },
   "file_extension": ".py",
   "mimetype": "text/x-python",
   "name": "python",
   "nbconvert_exporter": "python",
   "pygments_lexer": "ipython3",
   "version": "3.8.5"
  }
 },
 "nbformat": 4,
 "nbformat_minor": 4
}
