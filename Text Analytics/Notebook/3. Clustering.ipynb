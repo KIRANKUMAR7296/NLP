{
 "cells": [
  {
   "cell_type": "markdown",
   "metadata": {},
   "source": [
    "### Clustering\n",
    "\n",
    "`Unsupervised` Machine Learning Technique\n",
    "\n",
    "Group Similar items together based on `Features`\n",
    "\n",
    "Here,\n",
    "\n",
    "Each `Words` become `Features`\n",
    "\n",
    "Preprocessing : TF-IDF ( Convert Documents into Numeric Matrix )\n",
    "\n",
    "Documents represents `Rows` and Words represens `Columns`\n",
    "\n",
    "Use :\n",
    "\n",
    "- Group Documents by Similarity ( Reviews, News Articles and Tweets )"
   ]
  },
  {
   "cell_type": "code",
   "execution_count": 1,
   "metadata": {},
   "outputs": [
    {
     "name": "stdout",
     "output_type": "stream",
     "text": [
      "                                Course  \\\n",
      "0      Apache Spark Essential Training   \n",
      "1               Java Memory Management   \n",
      "2        Python Automation and Testing   \n",
      "3                  Python for Graphics   \n",
      "4  Machine Learning and AI Foundations   \n",
      "\n",
      "                                   HashTags  \n",
      "0       BigData,DataScience,MachineLearning  \n",
      "1                 Java,Advanced,Programming  \n",
      "2               Python,Automation,Scripting  \n",
      "3                 Python,Graphics,Scripting  \n",
      "4  DataScience,MachineLearning,Intermediate  \n"
     ]
    }
   ],
   "source": [
    "import pandas as pd\n",
    "\n",
    "hashtags = pd.read_csv(\"../Data/Course Hashtags.csv\")\n",
    "print(hashtags.head())"
   ]
  },
  {
   "cell_type": "markdown",
   "metadata": {},
   "source": [
    "`Seperating` Course and HashTags"
   ]
  },
  {
   "cell_type": "code",
   "execution_count": 2,
   "metadata": {},
   "outputs": [],
   "source": [
    "tags = hashtags['HashTags'].tolist()\n",
    "course = hashtags['Course'].tolist()"
   ]
  },
  {
   "cell_type": "markdown",
   "metadata": {},
   "source": [
    "`TF-IDF` Conversion of Hash Tags"
   ]
  },
  {
   "cell_type": "code",
   "execution_count": 3,
   "metadata": {},
   "outputs": [
    {
     "name": "stdout",
     "output_type": "stream",
     "text": [
      "Feature Names : \n",
      "['advanced', 'automation', 'bigdata', 'datascience', 'design', 'developer', 'gcp', 'graphics', 'hadoop', 'ide', 'intermediate', 'java', 'jdbc', 'kubernetes', 'machinelearning', 'patterns', 'programming', 'python', 'scala', 'scripting']\n"
     ]
    }
   ],
   "source": [
    "from sklearn.feature_extraction.text import TfidfVectorizer\n",
    "vectorizer = TfidfVectorizer(stop_words='english')\n",
    "hashtags_matrix = vectorizer.fit_transform(tags)\n",
    "print(f'Feature Names : \\n{vectorizer.get_feature_names()}')"
   ]
  },
  {
   "cell_type": "markdown",
   "metadata": {},
   "source": [
    "`Clustering` TF-IDF Data"
   ]
  },
  {
   "cell_type": "code",
   "execution_count": 4,
   "metadata": {},
   "outputs": [
    {
     "name": "stdout",
     "output_type": "stream",
     "text": [
      "\n",
      "Group : 0\n",
      "Apache Spark Essential Training\n",
      "Machine Learning and AI Foundations\n",
      "Hadoop for Data Science\n",
      "Data Science on Google Cloud Platform\n",
      "Scala for Data Science\n",
      "\n",
      "Group : 1\n",
      "Java Memory Management\n",
      "Java : Database Integration and JDBC\n",
      "R Programming\n",
      "Java IDE Overview\n",
      "Kubernetes for Java Developers\n",
      "\n",
      "Group : 2\n",
      "Python Automation and Testing\n",
      "Python for Graphics\n",
      "Python Design Patterns\n",
      "Python Scripting\n"
     ]
    }
   ],
   "source": [
    "from sklearn.cluster import KMeans\n",
    "\n",
    "# Split Data into 3 Clusters\n",
    "kmean = KMeans(n_clusters=3).fit(hashtags_matrix)\n",
    "\n",
    "# Cluster Labels\n",
    "cluster = kmean.labels_\n",
    "\n",
    "for group in set(cluster):\n",
    "    print(f'\\nGroup : {group}')\n",
    "    \n",
    "    for i in hashtags.index:\n",
    "        if(cluster[i] == group):\n",
    "            print(course[i])"
   ]
  },
  {
   "cell_type": "markdown",
   "metadata": {},
   "source": [
    "Finding `Optimal` Cluster Size "
   ]
  },
  {
   "cell_type": "code",
   "execution_count": 5,
   "metadata": {},
   "outputs": [
    {
     "name": "stdout",
     "output_type": "stream",
     "text": [
      "Sum of Squared Distances : \n",
      "[11.433022387031059, 9.055813116540266, 6.7610661721912155, 5.6283212260073165, 4.688883377604405, 3.877655335798854, 3.348140671210958]\n"
     ]
    }
   ],
   "source": [
    "# Find Sum of Squared Distance\n",
    "sosd = []\n",
    "\n",
    "# Clustering for Range 1 to 7 to Capture Inertia\n",
    "K = range(1,8)\n",
    "for k in K:\n",
    "    kmean = KMeans(n_clusters=k).fit(hashtags_matrix)\n",
    "    sosd.append(kmean.inertia_)\n",
    "print(f'Sum of Squared Distances : \\n{sosd}')    "
   ]
  },
  {
   "cell_type": "markdown",
   "metadata": {},
   "source": [
    "`Plot` SOSD against Number of Clusters"
   ]
  },
  {
   "cell_type": "code",
   "execution_count": 6,
   "metadata": {},
   "outputs": [
    {
     "data": {
      "image/png": "[encoded data removed]",
      "text/plain": [
       "<Figure size 432x288 with 1 Axes>"
      ]
     },
     "metadata": {
      "needs_background": "light"
     },
     "output_type": "display_data"
    }
   ],
   "source": [
    "import matplotlib.pyplot as plt\n",
    "plt.plot(K, sosd, 'bx-')\n",
    "plt.xlabel('Number of Clusters')\n",
    "plt.ylabel('Sum of Squared Distances')\n",
    "plt.title('Elbow Method');"
   ]
  },
  {
   "cell_type": "markdown",
   "metadata": {},
   "source": [
    "`Elbow` Occurs at Cluster 3 i.e Optimal Size of Cluster is 3 for this Case."
   ]
  }
 ],
 "metadata": {
  "kernelspec": {
   "display_name": "Python 3",
   "language": "python",
   "name": "python3"
  },
  "language_info": {
   "codemirror_mode": {
    "name": "ipython",
    "version": 3
   },
   "file_extension": ".py",
   "mimetype": "text/x-python",
   "name": "python",
   "nbconvert_exporter": "python",
   "pygments_lexer": "ipython3",
   "version": "3.8.5"
  }
 },
 "nbformat": 4,
 "nbformat_minor": 4
}
