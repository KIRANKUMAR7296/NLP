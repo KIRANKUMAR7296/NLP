{
 "cells": [
  {
   "cell_type": "markdown",
   "metadata": {},
   "source": [
    "### Sentiment Analysis 🙂 😯 🥵\n",
    "\n",
    "`Identify` and `Categorize` Intent and Opinion in Text Data\n",
    "\n",
    "- Reviews \n",
    "- Emails\n",
    "- Chats Transcripts\n",
    "\n",
    "Bag of Words\n",
    "\n",
    "`Plarity` : Positive `+1`, Negative `-1` or Neutral `0`\n",
    "\n",
    "`Subjectivity` : Subjective `1` or Objective `0`\n",
    "\n",
    "`Movie` Review"
   ]
  },
  {
   "cell_type": "code",
   "execution_count": 1,
   "metadata": {},
   "outputs": [],
   "source": [
    "with open(\"../Data/Movie Reviews.txt\", 'r') as file:\n",
    "    reviews = file.readlines()\n",
    "print(reviews[:2])    "
   ]
  },
  {
   "cell_type": "markdown",
   "metadata": {},
   "source": [
    "Finding `Sentiments` by Review"
   ]
  },
  {
   "cell_type": "code",
   "execution_count": 2,
   "metadata": {},
   "outputs": [
    {
     "name": "stdout",
     "output_type": "stream",
     "text": [
      "Review                                   : Polarity   : Subjectivity\n",
      "When your main character in a superhero  :   0.17           0.33\n",
      "Her performance was forced, uninspiring  :   -0.11           0.11\n",
      "I couldn't believe how boring this movie :   -0.51           0.72\n",
      "Nothing beats a good marvel movie, and t :   0.70           0.60\n",
      "This movie did for Marvel what Wonder Wo :   0.60           0.68\n",
      "Captain Marvel just became my favorite s :   0.40           0.64\n",
      "This is a very controversial Marvel film :   0.36           0.62\n",
      "Unfortunately, despite carrying many ele :   -0.14           0.48\n",
      "It's worth watching just for the fact th :   0.30           0.10\n",
      "It's great for a first time viewing. Wou :   0.38           0.51\n"
     ]
    }
   ],
   "source": [
    "from textblob import TextBlob\n",
    "print(f'{\"Review\":40} : {\"Polarity\":10} : {\"Subjectivity\":10}')\n",
    "for review in reviews:\n",
    "    sentiment = TextBlob(review)\n",
    "    print(f'{review[:40]} :   {(sentiment.polarity):.2f}           {(sentiment.subjectivity):.2f}')"
   ]
  },
  {
   "cell_type": "code",
   "execution_count": 3,
   "metadata": {},
   "outputs": [
    {
     "name": "stdout",
     "output_type": "stream",
     "text": [
      "Final Summarized Counts : [2, 6, 2]\n"
     ]
    },
    {
     "data": {
      "image/png": "[encoded data removed]",
      "text/plain": [
       "<Figure size 432x288 with 1 Axes>"
      ]
     },
     "metadata": {},
     "output_type": "display_data"
    }
   ],
   "source": [
    "# Categorize Polarity into Positive, Negative and Neutral\n",
    "labels = ['Negative','Neutral','Positive']\n",
    "\n",
    "# Initialize each Array\n",
    "values = [0,0,0]\n",
    "\n",
    "# Categorize Each Review\n",
    "for review in reviews:\n",
    "    sentiment = TextBlob(review)\n",
    "    \n",
    "    # Convert Polarity ( 0:Negative | 1:Neutral | 2:Positive)\n",
    "    polarity = round((sentiment.polarity + 1) * 3) % 3\n",
    "    \n",
    "    # Summary Array\n",
    "    values[polarity] = values[polarity] + 1\n",
    "    \n",
    "print(f'Final Summarized Counts : {values}')    \n",
    "\n",
    "import matplotlib.pyplot as plt\n",
    "\n",
    "plt.title('Pie Representation :')\n",
    "plt.pie(values, labels=labels, autopct='%1.0f%%', shadow=True, startangle=140)    \n",
    "plt.axis('equal');\n",
    "    "
   ]
  }
 ],
 "metadata": {
  "kernelspec": {
   "display_name": "Python 3",
   "language": "python",
   "name": "python3"
  },
  "language_info": {
   "codemirror_mode": {
    "name": "ipython",
    "version": 3
   },
   "file_extension": ".py",
   "mimetype": "text/x-python",
   "name": "python",
   "nbconvert_exporter": "python",
   "pygments_lexer": "ipython3",
   "version": "3.8.5"
  }
 },
 "nbformat": 4,
 "nbformat_minor": 4
}
